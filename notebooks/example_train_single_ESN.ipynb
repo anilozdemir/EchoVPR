{
  "nbformat": 4,
  "nbformat_minor": 5,
  "metadata": {
    "kernelspec": {
      "display_name": "Python 3",
      "language": "python",
      "name": "python3"
    },
    "language_info": {
      "codemirror_mode": {
        "name": "ipython",
        "version": 3
      },
      "file_extension": ".py",
      "mimetype": "text/x-python",
      "name": "python",
      "nbconvert_exporter": "python",
      "pygments_lexer": "ipython3",
      "version": "3.8.5"
    },
    "colab": {
      "name": "example-train-single-ESN.ipynb",
      "provenance": [],
      "collapsed_sections": [],
      "include_colab_link": true
    }
  },
  "cells": [
    {
      "cell_type": "markdown",
      "metadata": {
        "id": "view-in-github",
        "colab_type": "text"
      },
      "source": [
        "<a href=\"https://colab.research.google.com/github/anilozdemir/EchoVPR/blob/main/notebooks/example_train_single_ESN.ipynb\" target=\"_parent\"><img src=\"https://colab.research.google.com/assets/colab-badge.svg\" alt=\"Open In Colab\"/></a>"
      ]
    },
    {
      "cell_type": "markdown",
      "metadata": {
        "id": "yv6xVFmB57hL"
      },
      "source": [
        "# Get EchoVPR from GitHub"
      ],
      "id": "yv6xVFmB57hL"
    },
    {
      "cell_type": "code",
      "metadata": {
        "colab": {
          "base_uri": "https://localhost:8080/"
        },
        "id": "5HpMtIzn57Tk",
        "outputId": "5bbf572f-aa5d-4770-fc63-9458f0e0ba6b"
      },
      "source": [
        "!git clone https://github.com/anilozdemir/EchoVPR.git"
      ],
      "id": "5HpMtIzn57Tk",
      "execution_count": 1,
      "outputs": [
        {
          "output_type": "stream",
          "name": "stdout",
          "text": [
            "Cloning into 'EchoVPR'...\n",
            "remote: Enumerating objects: 51, done.\u001b[K\n",
            "remote: Counting objects: 100% (51/51), done.\u001b[K\n",
            "remote: Compressing objects: 100% (41/41), done.\u001b[K\n",
            "remote: Total 51 (delta 11), reused 34 (delta 6), pack-reused 0\u001b[K\n",
            "Unpacking objects: 100% (51/51), done.\n"
          ]
        }
      ]
    },
    {
      "cell_type": "markdown",
      "metadata": {
        "id": "l_zP-u5X6BCT"
      },
      "source": [
        "## Install `echovpr` module"
      ],
      "id": "l_zP-u5X6BCT"
    },
    {
      "cell_type": "code",
      "metadata": {
        "colab": {
          "base_uri": "https://localhost:8080/"
        },
        "id": "0e6_DQ5p6ImM",
        "outputId": "cb9d9387-211a-4dab-cfe0-5c2c01da8d16"
      },
      "source": [
        "%cd EchoVPR/src"
      ],
      "id": "0e6_DQ5p6ImM",
      "execution_count": 2,
      "outputs": [
        {
          "output_type": "stream",
          "name": "stdout",
          "text": [
            "/content/EchoVPR/src\n"
          ]
        }
      ]
    },
    {
      "cell_type": "code",
      "metadata": {
        "colab": {
          "base_uri": "https://localhost:8080/"
        },
        "id": "uhE60W6U57Q1",
        "outputId": "133b68fd-ac3a-4bb4-f88d-59e4b152acd3"
      },
      "source": [
        "!python setup.py develop"
      ],
      "id": "uhE60W6U57Q1",
      "execution_count": 3,
      "outputs": [
        {
          "output_type": "stream",
          "name": "stdout",
          "text": [
            "running develop\n",
            "running egg_info\n",
            "creating echovpr.egg-info\n",
            "writing echovpr.egg-info/PKG-INFO\n",
            "writing dependency_links to echovpr.egg-info/dependency_links.txt\n",
            "writing top-level names to echovpr.egg-info/top_level.txt\n",
            "writing manifest file 'echovpr.egg-info/SOURCES.txt'\n",
            "writing manifest file 'echovpr.egg-info/SOURCES.txt'\n",
            "running build_ext\n",
            "Creating /usr/local/lib/python3.7/dist-packages/echovpr.egg-link (link to .)\n",
            "Adding echovpr 1.0 to easy-install.pth file\n",
            "\n",
            "Installed /content/EchoVPR/src\n",
            "Processing dependencies for echovpr==1.0\n",
            "Finished processing dependencies for echovpr==1.0\n"
          ]
        }
      ]
    },
    {
      "cell_type": "markdown",
      "metadata": {
        "id": "3c58534b-b309-49ab-be85-cda2b2c8effd"
      },
      "source": [
        "# Train ESN and ESN+SpaRCe"
      ],
      "id": "3c58534b-b309-49ab-be85-cda2b2c8effd"
    },
    {
      "cell_type": "code",
      "metadata": {
        "id": "732c22bd-1cc7-4e22-b3aa-e1bf9f7ab0b2"
      },
      "source": [
        "import torch\n",
        "\n",
        "from echovpr.datasets    import getHiddenRepr, DataSets, Tolerance\n",
        "from echovpr.networks    import singleESN, getSparsity\n",
        "from echovpr.experiments import SingleESN_Exp, getValidationIndices"
      ],
      "id": "732c22bd-1cc7-4e22-b3aa-e1bf9f7ab0b2",
      "execution_count": 4,
      "outputs": []
    },
    {
      "cell_type": "markdown",
      "metadata": {
        "id": "33875275-e5f7-4288-bdf3-ac36ec06b80b"
      },
      "source": [
        "## Get NetVLAD Hidden Representation and Validation Indices"
      ],
      "id": "33875275-e5f7-4288-bdf3-ac36ec06b80b"
    },
    {
      "cell_type": "code",
      "metadata": {
        "id": "a06beb80-1f86-4560-8f9c-8fe11e14f631"
      },
      "source": [
        "ds  = 'GardensPoint'\n",
        "tol = Tolerance[ds]\n",
        "\n",
        "# Get NetVLAD Hidden Representation\n",
        "hiddenReprTrain, hiddenReprTest = getHiddenRepr('GardensPoint')\n",
        "# Get Input and Output Size; First element of shape: (number of images == number of classes == nOutput); Second element:  size of hidden representations\n",
        "nOutput, nInput = hiddenReprTrain.shape \n",
        "# Get Validation Indices\n",
        "TestInd, ValidationInd = getValidationIndices(1, nOutput)"
      ],
      "id": "a06beb80-1f86-4560-8f9c-8fe11e14f631",
      "execution_count": 5,
      "outputs": []
    },
    {
      "cell_type": "markdown",
      "metadata": {
        "id": "26dd79ad-396a-4f08-b0b3-0f7cf4f6fa1e"
      },
      "source": [
        "# ESN Training"
      ],
      "id": "26dd79ad-396a-4f08-b0b3-0f7cf4f6fa1e"
    },
    {
      "cell_type": "code",
      "metadata": {
        "id": "49331abe-6a87-46ea-ba77-23144440538c"
      },
      "source": [
        "nRes     = 1000\n",
        "nCon     = 10\n",
        "nTrial   = 10\n",
        "nEpoch   = 50\n",
        "nBatch   = 5\n",
        "lR       = 0.01\n",
        "gamma    = 0.0003 \n",
        "alpha    = 0.68"
      ],
      "id": "49331abe-6a87-46ea-ba77-23144440538c",
      "execution_count": 6,
      "outputs": []
    },
    {
      "cell_type": "code",
      "metadata": {
        "id": "6e626b87-32fc-4c30-95f0-dbb6513ff910"
      },
      "source": [
        "_ESN_model_ = lambda randSeed: singleESN(nInput, nOutput, nReservoir=nRes, randomSeed = randSeed, device='cpu', useReadout = False,\n",
        "                                     sparsity = getSparsity(nCon, nRes), alpha = alpha, gamma = gamma, rho = 0.99)"
      ],
      "id": "6e626b87-32fc-4c30-95f0-dbb6513ff910",
      "execution_count": 7,
      "outputs": []
    },
    {
      "cell_type": "code",
      "metadata": {
        "colab": {
          "base_uri": "https://localhost:8080/"
        },
        "id": "e6bcce11-6fe8-4b67-8f17-073f041203de",
        "outputId": "0e2f10c8-8c35-4dc1-ecbf-37cc80f0157d"
      },
      "source": [
        "model   = _ESN_model_(0)\n",
        "exp     = SingleESN_Exp(model, hiddenReprTrain, hiddenReprTest, TestInd, ValidationInd , tol)\n",
        "results = exp.train_esn(nEpoch=nEpoch, lR=lR, nBatch=nBatch, returnData=True, returnDataAll=False)\n",
        "results['AccTest'][-1].mean()"
      ],
      "id": "e6bcce11-6fe8-4b67-8f17-073f041203de",
      "execution_count": 8,
      "outputs": [
        {
          "output_type": "execute_result",
          "data": {
            "text/plain": [
              "0.8299999999999998"
            ]
          },
          "metadata": {},
          "execution_count": 8
        }
      ]
    },
    {
      "cell_type": "markdown",
      "metadata": {
        "id": "6ba5d5f4-5c0c-48e7-83be-f3416fc52d53"
      },
      "source": [
        "# ESN+SpaRCe Training"
      ],
      "id": "6ba5d5f4-5c0c-48e7-83be-f3416fc52d53"
    },
    {
      "cell_type": "code",
      "metadata": {
        "id": "0becf1d5-f3ab-46c7-a6ca-3bc1495ddfc2"
      },
      "source": [
        "nRes     = 1000\n",
        "nCon     = 10\n",
        "nTrial   = 10\n",
        "nEpoch   = 50\n",
        "nBatch   = 5\n",
        "lR       = 0.01\n",
        "gamma    = 0.0003 \n",
        "alpha    = 0.74\n",
        "quantile = 0.4 \n",
        "lrDiv    = 10"
      ],
      "id": "0becf1d5-f3ab-46c7-a6ca-3bc1495ddfc2",
      "execution_count": 9,
      "outputs": []
    },
    {
      "cell_type": "code",
      "metadata": {
        "id": "6a44264c-4d31-4314-9fd1-8b35e3cd0f9c"
      },
      "source": [
        "_SPARCE_model_ = lambda randSeed: singleESN(nInput, nOutput, nReservoir = nRes, randomSeed = randSeed, device='cpu', useReadout = False,\n",
        "                                     sparsity = getSparsity(nCon, nRes), alpha = alpha, gamma = gamma, rho = 0.99)"
      ],
      "id": "6a44264c-4d31-4314-9fd1-8b35e3cd0f9c",
      "execution_count": 10,
      "outputs": []
    },
    {
      "cell_type": "code",
      "metadata": {
        "colab": {
          "base_uri": "https://localhost:8080/"
        },
        "id": "492f1a16-ca3c-4720-8c31-8daae47a9507",
        "outputId": "0a0d3562-ba95-42a1-98cb-12c0f226e96d"
      },
      "source": [
        "model   = _SPARCE_model_(0)\n",
        "exp     = SingleESN_Exp(model, hiddenReprTrain, hiddenReprTest, TestInd, ValidationInd , tol)\n",
        "results = exp.train_sparce(nEpoch=nEpoch, lR=lR, nBatch=nBatch, quantile=quantile, lr_divide_factor=lrDiv, returnData=True, returnDataAll=False)\n",
        "results['AccTest'][-1].mean()"
      ],
      "id": "492f1a16-ca3c-4720-8c31-8daae47a9507",
      "execution_count": 11,
      "outputs": [
        {
          "output_type": "execute_result",
          "data": {
            "text/plain": [
              "0.74"
            ]
          },
          "metadata": {},
          "execution_count": 11
        }
      ]
    }
  ]
}