{
 "cells": [
  {
   "cell_type": "markdown",
   "id": "3c58534b-b309-49ab-be85-cda2b2c8effd",
   "metadata": {},
   "source": [
    "# Train Hierarchical ESN and ESN+SpaRCe"
   ]
  },
  {
   "cell_type": "code",
   "execution_count": 1,
   "id": "732c22bd-1cc7-4e22-b3aa-e1bf9f7ab0b2",
   "metadata": {},
   "outputs": [],
   "source": [
    "import torch\n",
    "\n",
    "from echovpr.datasets    import getHiddenRepr, DataSets, Tolerance\n",
    "from echovpr.networks    import hierESN, getSparsity\n",
    "from echovpr.experiments import ESN_Exp, getValidationIndices"
   ]
  },
  {
   "cell_type": "markdown",
   "id": "33875275-e5f7-4288-bdf3-ac36ec06b80b",
   "metadata": {},
   "source": [
    "## Get NetVLAD Hidden Representation and Validation Indices"
   ]
  },
  {
   "cell_type": "code",
   "execution_count": 2,
   "id": "a06beb80-1f86-4560-8f9c-8fe11e14f631",
   "metadata": {},
   "outputs": [],
   "source": [
    "ds  = 'GardensPoint'\n",
    "tol = Tolerance[ds]\n",
    "\n",
    "# Get NetVLAD Hidden Representation\n",
    "hiddenReprTrain, hiddenReprTest = getHiddenRepr('GardensPoint')\n",
    "# Get Input and Output Size; First element of shape: (number of images == number of classes == nOutput); Second element:  size of hidden representations\n",
    "nOutput, nInput = hiddenReprTrain.shape \n",
    "# Get Validation Indices\n",
    "TestInd, ValidationInd = getValidationIndices(1, nOutput)"
   ]
  },
  {
   "cell_type": "markdown",
   "id": "26dd79ad-396a-4f08-b0b3-0f7cf4f6fa1e",
   "metadata": {},
   "source": [
    "# hierESN Training"
   ]
  },
  {
   "cell_type": "code",
   "execution_count": 3,
   "id": "49331abe-6a87-46ea-ba77-23144440538c",
   "metadata": {},
   "outputs": [],
   "source": [
    "nRes1  = 1000\n",
    "nRes2  = 1000\n",
    "nCon   = 10\n",
    "nTrial = 10\n",
    "nEpoch = 50\n",
    "nBatch = 5\n",
    "lR     = 0.001\n",
    "alpha1 = 0.6\n",
    "alpha2 = 0.9\n",
    "gamma1 = 0.01\n",
    "gamma2 = 0.01"
   ]
  },
  {
   "cell_type": "code",
   "execution_count": 4,
   "id": "6e626b87-32fc-4c30-95f0-dbb6513ff910",
   "metadata": {},
   "outputs": [],
   "source": [
    "_hierESN_model_ = lambda randSeed: hierESN(nInput, nOutput, nReservoir1=nRes1, nReservoir2=nRes2, randomSeed = randSeed, device='cpu', useReadout = False,\n",
    "                                           sparsity1 = getSparsity(nCon, nRes1), sparsity2 = getSparsity(nCon, nRes2), alpha1 = alpha1, alpha2 = alpha2, \n",
    "                                           gamma1 = gamma1, gamma2 = gamma2, rho1 = 0.99, rho2 = 0.99)"
   ]
  },
  {
   "cell_type": "code",
   "execution_count": 11,
   "id": "e6bcce11-6fe8-4b67-8f17-073f041203de",
   "metadata": {},
   "outputs": [
    {
     "data": {
      "text/plain": [
       "0.8399999999999999"
      ]
     },
     "execution_count": 11,
     "metadata": {},
     "output_type": "execute_result"
    }
   ],
   "source": [
    "model   = _hierESN_model_(0)\n",
    "exp     = ESN_Exp(model, hiddenReprTrain, hiddenReprTest, TestInd, ValidationInd , tol)\n",
    "results = exp.train_esn(nEpoch=nEpoch, lR=lR, nBatch=nBatch, returnData=True, returnDataAll=False)\n",
    "results['AccTest'][-1].mean()"
   ]
  },
  {
   "cell_type": "markdown",
   "id": "6ba5d5f4-5c0c-48e7-83be-f3416fc52d53",
   "metadata": {},
   "source": [
    "# ESN+SpaRCe Training"
   ]
  },
  {
   "cell_type": "code",
   "execution_count": 6,
   "id": "0becf1d5-f3ab-46c7-a6ca-3bc1495ddfc2",
   "metadata": {},
   "outputs": [],
   "source": [
    "nRes     = 1000\n",
    "nCon     = 10\n",
    "nTrial   = 10\n",
    "nEpoch   = 50\n",
    "nBatch   = 5\n",
    "lR       = 0.0005\n",
    "alpha1   = 0.6\n",
    "alpha2   = 0.9\n",
    "gamma1   = 0.01\n",
    "gamma2   = 0.01\n",
    "quantile = 0.4 \n",
    "lrDiv    = 1000"
   ]
  },
  {
   "cell_type": "code",
   "execution_count": 7,
   "id": "6a44264c-4d31-4314-9fd1-8b35e3cd0f9c",
   "metadata": {},
   "outputs": [],
   "source": [
    "_hierESN_SPARCE_model_ = lambda randSeed: hierESN(nInput, nOutput, nReservoir1=nRes1, nReservoir2=nRes2, randomSeed = randSeed, device='cpu', useReadout = False,\n",
    "                                                  sparsity1 = getSparsity(nCon, nRes1), sparsity2 = getSparsity(nCon, nRes2), alpha1 = alpha1, alpha2 = alpha2, \n",
    "                                                 gamma1 = gamma1, gamma2 = gamma2, rho1 = 0.99, rho2 = 0.99)"
   ]
  },
  {
   "cell_type": "code",
   "execution_count": 12,
   "id": "492f1a16-ca3c-4720-8c31-8daae47a9507",
   "metadata": {},
   "outputs": [
    {
     "data": {
      "text/plain": [
       "0.775"
      ]
     },
     "execution_count": 12,
     "metadata": {},
     "output_type": "execute_result"
    }
   ],
   "source": [
    "model   = _hierESN_SPARCE_model_(0)\n",
    "exp     = ESN_Exp(model, hiddenReprTrain, hiddenReprTest, TestInd, ValidationInd , tol)\n",
    "results = exp.train_sparce(nEpoch=nEpoch, lR=lR, nBatch=nBatch, quantile=quantile, lr_divide_factor=lrDiv, returnData=True, returnDataAll=False)\n",
    "results['AccTest'][-1].mean()"
   ]
  }
 ],
 "metadata": {
  "kernelspec": {
   "display_name": "Python 3",
   "language": "python",
   "name": "python3"
  },
  "language_info": {
   "codemirror_mode": {
    "name": "ipython",
    "version": 3
   },
   "file_extension": ".py",
   "mimetype": "text/x-python",
   "name": "python",
   "nbconvert_exporter": "python",
   "pygments_lexer": "ipython3",
   "version": "3.8.5"
  }
 },
 "nbformat": 4,
 "nbformat_minor": 5
}
