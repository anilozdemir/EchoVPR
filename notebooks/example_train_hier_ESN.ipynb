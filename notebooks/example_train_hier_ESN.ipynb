{
  "nbformat": 4,
  "nbformat_minor": 5,
  "metadata": {
    "kernelspec": {
      "display_name": "Python 3",
      "language": "python",
      "name": "python3"
    },
    "language_info": {
      "codemirror_mode": {
        "name": "ipython",
        "version": 3
      },
      "file_extension": ".py",
      "mimetype": "text/x-python",
      "name": "python",
      "nbconvert_exporter": "python",
      "pygments_lexer": "ipython3",
      "version": "3.8.5"
    },
    "colab": {
      "name": "example-train-hier-ESN.ipynb",
      "provenance": [],
      "collapsed_sections": [],
      "include_colab_link": true
    }
  },
  "cells": [
    {
      "cell_type": "markdown",
      "metadata": {
        "id": "view-in-github",
        "colab_type": "text"
      },
      "source": [
        "<a href=\"https://colab.research.google.com/github/anilozdemir/EchoVPR/blob/main/notebooks/example_train_hier_ESN.ipynb\" target=\"_parent\"><img src=\"https://colab.research.google.com/assets/colab-badge.svg\" alt=\"Open In Colab\"/></a>"
      ]
    },
    {
      "cell_type": "markdown",
      "metadata": {
        "id": "-C3Ek4aeWrAf"
      },
      "source": [
        "# Get EchoVPR from GitHub"
      ],
      "id": "-C3Ek4aeWrAf"
    },
    {
      "cell_type": "code",
      "metadata": {
        "colab": {
          "base_uri": "https://localhost:8080/"
        },
        "id": "sAbAAgqFWqkt",
        "outputId": "6d287831-3eac-48f1-9fee-442e17a325d5"
      },
      "source": [
        "!git clone https://github.com/anilozdemir/EchoVPR.git"
      ],
      "id": "sAbAAgqFWqkt",
      "execution_count": 1,
      "outputs": [
        {
          "output_type": "stream",
          "name": "stdout",
          "text": [
            "Cloning into 'EchoVPR'...\n",
            "remote: Enumerating objects: 82, done.\u001b[K\n",
            "remote: Counting objects: 100% (82/82), done.\u001b[K\n",
            "remote: Compressing objects: 100% (60/60), done.\u001b[K\n",
            "remote: Total 82 (delta 33), reused 53 (delta 18), pack-reused 0\u001b[K\n",
            "Unpacking objects: 100% (82/82), done.\n"
          ]
        }
      ]
    },
    {
      "cell_type": "markdown",
      "metadata": {
        "id": "uVwMGVTmWw_F"
      },
      "source": [
        "## Install `echovpr` module"
      ],
      "id": "uVwMGVTmWw_F"
    },
    {
      "cell_type": "code",
      "metadata": {
        "colab": {
          "base_uri": "https://localhost:8080/"
        },
        "id": "qBRb7b85Wqc8",
        "outputId": "80899892-38e6-427a-d8e4-e3331317aa75"
      },
      "source": [
        "%cd EchoVPR/src"
      ],
      "id": "qBRb7b85Wqc8",
      "execution_count": 2,
      "outputs": [
        {
          "output_type": "stream",
          "name": "stdout",
          "text": [
            "/content/EchoVPR/src\n"
          ]
        }
      ]
    },
    {
      "cell_type": "code",
      "metadata": {
        "colab": {
          "base_uri": "https://localhost:8080/"
        },
        "id": "-JTRsNo7Wp_v",
        "outputId": "638a5344-47aa-4738-bacb-52155da277c8"
      },
      "source": [
        "!python setup.py develop"
      ],
      "id": "-JTRsNo7Wp_v",
      "execution_count": 3,
      "outputs": [
        {
          "output_type": "stream",
          "name": "stdout",
          "text": [
            "running develop\n",
            "running egg_info\n",
            "creating echovpr.egg-info\n",
            "writing echovpr.egg-info/PKG-INFO\n",
            "writing dependency_links to echovpr.egg-info/dependency_links.txt\n",
            "writing top-level names to echovpr.egg-info/top_level.txt\n",
            "writing manifest file 'echovpr.egg-info/SOURCES.txt'\n",
            "writing manifest file 'echovpr.egg-info/SOURCES.txt'\n",
            "running build_ext\n",
            "Creating /usr/local/lib/python3.7/dist-packages/echovpr.egg-link (link to .)\n",
            "Adding echovpr 1.0 to easy-install.pth file\n",
            "\n",
            "Installed /content/EchoVPR/src\n",
            "Processing dependencies for echovpr==1.0\n",
            "Finished processing dependencies for echovpr==1.0\n"
          ]
        }
      ]
    },
    {
      "cell_type": "markdown",
      "metadata": {
        "id": "3c58534b-b309-49ab-be85-cda2b2c8effd"
      },
      "source": [
        "# Train Hierarchical ESN and ESN+SpaRCe"
      ],
      "id": "3c58534b-b309-49ab-be85-cda2b2c8effd"
    },
    {
      "cell_type": "code",
      "metadata": {
        "id": "732c22bd-1cc7-4e22-b3aa-e1bf9f7ab0b2"
      },
      "source": [
        "import torch\n",
        "\n",
        "from echovpr.datasets    import getHiddenRepr, DataSets, Tolerance\n",
        "from echovpr.networks    import hierESN, getSparsity\n",
        "from echovpr.experiments import ESN_Exp, getValidationIndices"
      ],
      "id": "732c22bd-1cc7-4e22-b3aa-e1bf9f7ab0b2",
      "execution_count": 4,
      "outputs": []
    },
    {
      "cell_type": "markdown",
      "metadata": {
        "id": "33875275-e5f7-4288-bdf3-ac36ec06b80b"
      },
      "source": [
        "## Get NetVLAD Hidden Representation and Validation Indices"
      ],
      "id": "33875275-e5f7-4288-bdf3-ac36ec06b80b"
    },
    {
      "cell_type": "code",
      "metadata": {
        "id": "a06beb80-1f86-4560-8f9c-8fe11e14f631"
      },
      "source": [
        "ds  = 'GardensPoint'\n",
        "tol = Tolerance[ds]\n",
        "\n",
        "# Get NetVLAD Hidden Representation\n",
        "hiddenReprTrain, hiddenReprTest = getHiddenRepr('GardensPoint')\n",
        "# Get Input and Output Size; First element of shape: (number of images == number of classes == nOutput); Second element:  size of hidden representations\n",
        "nOutput, nInput = hiddenReprTrain.shape \n",
        "# Get Validation Indices\n",
        "TestInd, ValidationInd = getValidationIndices(1, nOutput)"
      ],
      "id": "a06beb80-1f86-4560-8f9c-8fe11e14f631",
      "execution_count": 5,
      "outputs": []
    },
    {
      "cell_type": "markdown",
      "metadata": {
        "id": "26dd79ad-396a-4f08-b0b3-0f7cf4f6fa1e"
      },
      "source": [
        "# hierESN Training"
      ],
      "id": "26dd79ad-396a-4f08-b0b3-0f7cf4f6fa1e"
    },
    {
      "cell_type": "code",
      "metadata": {
        "id": "49331abe-6a87-46ea-ba77-23144440538c"
      },
      "source": [
        "nRes1  = 1000\n",
        "nRes2  = 1000\n",
        "nCon   = 10\n",
        "nTrial = 10\n",
        "nEpoch = 50\n",
        "nBatch = 5\n",
        "lR     = 0.001\n",
        "alpha1 = 0.6\n",
        "alpha2 = 0.9\n",
        "gamma1 = 0.01\n",
        "gamma2 = 0.01"
      ],
      "id": "49331abe-6a87-46ea-ba77-23144440538c",
      "execution_count": 6,
      "outputs": []
    },
    {
      "cell_type": "code",
      "metadata": {
        "id": "6e626b87-32fc-4c30-95f0-dbb6513ff910"
      },
      "source": [
        "_hierESN_model_ = lambda randSeed: hierESN(nInput, nOutput, nReservoir1=nRes1, nReservoir2=nRes2, randomSeed = randSeed, device='cpu', useReadout = False,\n",
        "                                           sparsity1 = getSparsity(nCon, nRes1), sparsity2 = getSparsity(nCon, nRes2), alpha1 = alpha1, alpha2 = alpha2, \n",
        "                                           gamma1 = gamma1, gamma2 = gamma2, rho1 = 0.99, rho2 = 0.99)"
      ],
      "id": "6e626b87-32fc-4c30-95f0-dbb6513ff910",
      "execution_count": 7,
      "outputs": []
    },
    {
      "cell_type": "code",
      "metadata": {
        "colab": {
          "base_uri": "https://localhost:8080/"
        },
        "id": "e6bcce11-6fe8-4b67-8f17-073f041203de",
        "outputId": "ecfd0405-c709-408e-e8e9-ffc25f11016f"
      },
      "source": [
        "model   = _hierESN_model_(0)\n",
        "exp     = ESN_Exp(model, hiddenReprTrain, hiddenReprTest, TestInd, ValidationInd , tol)\n",
        "results = exp.train_esn(nEpoch=nEpoch, lR=lR, nBatch=nBatch, returnData=True, returnDataAll=False)\n",
        "results['AccTest'][-1].mean()"
      ],
      "id": "e6bcce11-6fe8-4b67-8f17-073f041203de",
      "execution_count": 8,
      "outputs": [
        {
          "output_type": "execute_result",
          "data": {
            "text/plain": [
              "0.835"
            ]
          },
          "metadata": {},
          "execution_count": 8
        }
      ]
    },
    {
      "cell_type": "markdown",
      "metadata": {
        "id": "6ba5d5f4-5c0c-48e7-83be-f3416fc52d53"
      },
      "source": [
        "# hierESN+SpaRCe Training"
      ],
      "id": "6ba5d5f4-5c0c-48e7-83be-f3416fc52d53"
    },
    {
      "cell_type": "code",
      "metadata": {
        "id": "0becf1d5-f3ab-46c7-a6ca-3bc1495ddfc2"
      },
      "source": [
        "nRes     = 1000\n",
        "nCon     = 10\n",
        "nTrial   = 10\n",
        "nEpoch   = 50\n",
        "nBatch   = 5\n",
        "lR       = 0.0005\n",
        "alpha1   = 0.6\n",
        "alpha2   = 0.9\n",
        "gamma1   = 0.01\n",
        "gamma2   = 0.01\n",
        "quantile = 0.4 \n",
        "lrDiv    = 1000"
      ],
      "id": "0becf1d5-f3ab-46c7-a6ca-3bc1495ddfc2",
      "execution_count": 9,
      "outputs": []
    },
    {
      "cell_type": "code",
      "metadata": {
        "id": "6a44264c-4d31-4314-9fd1-8b35e3cd0f9c"
      },
      "source": [
        "_hierESN_SPARCE_model_ = lambda randSeed: hierESN(nInput, nOutput, nReservoir1=nRes1, nReservoir2=nRes2, randomSeed = randSeed, device='cpu', useReadout = False,\n",
        "                                                  sparsity1 = getSparsity(nCon, nRes1), sparsity2 = getSparsity(nCon, nRes2), alpha1 = alpha1, alpha2 = alpha2, \n",
        "                                                 gamma1 = gamma1, gamma2 = gamma2, rho1 = 0.99, rho2 = 0.99)"
      ],
      "id": "6a44264c-4d31-4314-9fd1-8b35e3cd0f9c",
      "execution_count": 10,
      "outputs": []
    },
    {
      "cell_type": "code",
      "metadata": {
        "colab": {
          "base_uri": "https://localhost:8080/"
        },
        "id": "492f1a16-ca3c-4720-8c31-8daae47a9507",
        "outputId": "db3b0ecb-33d8-4bce-b396-548efba39872"
      },
      "source": [
        "model   = _hierESN_SPARCE_model_(0)\n",
        "exp     = ESN_Exp(model, hiddenReprTrain, hiddenReprTest, TestInd, ValidationInd , tol)\n",
        "results = exp.train_sparce(nEpoch=nEpoch, lR=lR, nBatch=nBatch, quantile=quantile, lr_divide_factor=lrDiv, returnData=True, returnDataAll=False)\n",
        "results['AccTest'][-1].mean()"
      ],
      "id": "492f1a16-ca3c-4720-8c31-8daae47a9507",
      "execution_count": 11,
      "outputs": [
        {
          "output_type": "execute_result",
          "data": {
            "text/plain": [
              "0.775"
            ]
          },
          "metadata": {},
          "execution_count": 11
        }
      ]
    }
  ]
}